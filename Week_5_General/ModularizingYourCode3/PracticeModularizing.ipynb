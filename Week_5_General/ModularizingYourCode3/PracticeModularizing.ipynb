{
 "cells": [
  {
   "cell_type": "code",
   "execution_count": 1,
   "id": "7d9dad0a",
   "metadata": {},
   "outputs": [],
   "source": [
    "class Student:\n",
    "    def __init__(self, name, course, level):\n",
    "        print(\"Creating a new student\")\n",
    "        self.name = name\n",
    "        self.course = course\n",
    "        self.level = level\n",
    "        print(f\"Student {name} has been created\")"
   ]
  },
  {
   "cell_type": "code",
   "execution_count": 2,
   "id": "c2cc2985",
   "metadata": {},
   "outputs": [
    {
     "name": "stdout",
     "output_type": "stream",
     "text": [
      "Creating a new student\n",
      "Student Kemi Adebayo has been created\n"
     ]
    }
   ],
   "source": [
    "kemi = Student(\"Kemi Adebayo\", \"AI\", 300)"
   ]
  },
  {
   "cell_type": "markdown",
   "id": "d410b476",
   "metadata": {},
   "source": [
    "**How init and self work together**"
   ]
  },
  {
   "cell_type": "code",
   "execution_count": 3,
   "id": "a148f8d6",
   "metadata": {},
   "outputs": [
    {
     "name": "stdout",
     "output_type": "stream",
     "text": [
      "Step 1: Creating student object...\n",
      "Step 6: Ayo Daniel from Lagos is ready\n",
      "UNISAL7432\n"
     ]
    }
   ],
   "source": [
    "class NigerianStudent:\n",
    "    def __init__(self, name, state, course):\n",
    "        print(f\"Step 1: Creating student object...\")\n",
    "        self.name = name\n",
    "        self.state_of_origin = state\n",
    "        self.course = course\n",
    "        self.student_id = self.generate_id()\n",
    "        print(f\"Step 6: {self.name} from {self.state_of_origin} is ready\")\n",
    "\n",
    "    def generate_id(self):\n",
    "        import random\n",
    "        return f'UNISAL{random.randint(1000, 9999)}'\n",
    "    \n",
    "ayo = NigerianStudent(\"Ayo Daniel\", \"Lagos\", \"Stat\")\n",
    "print(ayo.student_id)"
   ]
  },
  {
   "cell_type": "code",
   "execution_count": 4,
   "id": "8532d7c9",
   "metadata": {},
   "outputs": [],
   "source": [
    "class PhoneUser:\n",
    "    def __init__(self, name, network):\n",
    "        self.name = name\n",
    "        self.network = network\n",
    "        self.airtime = 0\n",
    "        print(f\"{self.name} joined {self.network} network\")\n",
    "    \n",
    "    def buy_airtime(self, amount):\n",
    "        self.airtime += amount \n",
    "        return f'{self.name} now has ₦{self.airtime} airtime'"
   ]
  },
  {
   "cell_type": "code",
   "execution_count": 5,
   "id": "fb335c61",
   "metadata": {},
   "outputs": [
    {
     "name": "stdout",
     "output_type": "stream",
     "text": [
      "Abeeb Bakare joined MTN network\n",
      "Kudoro Esther joined Airtel network\n"
     ]
    }
   ],
   "source": [
    "abeeb = PhoneUser(\"Abeeb Bakare\", \"MTN\")\n",
    "esther = PhoneUser(\"Kudoro Esther\", \"Airtel\")"
   ]
  },
  {
   "cell_type": "code",
   "execution_count": 6,
   "id": "bbf472fe",
   "metadata": {},
   "outputs": [
    {
     "name": "stdout",
     "output_type": "stream",
     "text": [
      "Abeeb Bakare now has ₦500 airtime\n",
      "Kudoro Esther now has ₦1000 airtime\n",
      "500\n",
      "1000\n"
     ]
    }
   ],
   "source": [
    "print(abeeb.buy_airtime(500))\n",
    "print(esther.buy_airtime(1000))\n",
    "print(abeeb.airtime)\n",
    "print(esther.airtime)"
   ]
  },
  {
   "cell_type": "code",
   "execution_count": 7,
   "id": "47f7a5ec",
   "metadata": {},
   "outputs": [],
   "source": [
    "class Student:\n",
    "    def __init__(self, name, course, level, state_of_origin):\n",
    "        self.name = name\n",
    "        self.course = course\n",
    "        self.level = level\n",
    "        self.state_of_origin = state_of_origin\n",
    "        self.cgpa =0.0\n",
    "        "
   ]
  },
  {
   "cell_type": "code",
   "execution_count": 8,
   "id": "a3a33c80",
   "metadata": {},
   "outputs": [],
   "source": [
    "daniel = Student(\"Daniel Oyebade\", \"Biochemistry\", 300, \"Ogun State\")\n"
   ]
  },
  {
   "cell_type": "code",
   "execution_count": 9,
   "id": "c0d43d2b",
   "metadata": {},
   "outputs": [
    {
     "name": "stdout",
     "output_type": "stream",
     "text": [
      "Daniel Oyebade\n",
      "Biochemistry\n",
      "Ogun State\n"
     ]
    }
   ],
   "source": [
    "print(daniel.name)\n",
    "print(daniel.course)\n",
    "print(daniel.state_of_origin)"
   ]
  },
  {
   "cell_type": "markdown",
   "id": "136366c0",
   "metadata": {},
   "source": [
    "#### instance attributes"
   ]
  },
  {
   "cell_type": "code",
   "execution_count": 10,
   "id": "8a68d2fa",
   "metadata": {},
   "outputs": [
    {
     "name": "stdout",
     "output_type": "stream",
     "text": [
      "Hamid Jimoh\n",
      "Mary Adeoye\n"
     ]
    }
   ],
   "source": [
    "student1 = Student(\"Hamid Jimoh\", \"Engineering\", 200, \"Ogun\")\n",
    "student2 = Student(\"Mary Adeoye\", \"Medicine\", 400, \"Lagos\")\n",
    "\n",
    "print(student1.name)\n",
    "print(student2.name)"
   ]
  },
  {
   "cell_type": "markdown",
   "id": "54520626",
   "metadata": {},
   "source": [
    "#### class attributes"
   ]
  },
  {
   "cell_type": "code",
   "execution_count": 11,
   "id": "4c2af148",
   "metadata": {},
   "outputs": [
    {
     "name": "stdout",
     "output_type": "stream",
     "text": [
      "Federal University of Technology Akure\n",
      "Federal University of Technology Akure\n"
     ]
    }
   ],
   "source": [
    "class Student:\n",
    "    university = \"Federal University of Technology Akure\"\n",
    "\n",
    "    def __init__(self, name, course):\n",
    "        self.name = name\n",
    "        self.course = course\n",
    "\n",
    "student1 = Student(\"Hamid Jimoh\", \"Engineering\")\n",
    "student2 = Student(\"Mary Adeoye\", \"Medicine\")    \n",
    "\n",
    "print(Student.university)\n",
    "print(student1.university)"
   ]
  },
  {
   "cell_type": "markdown",
   "id": "d94d64db",
   "metadata": {},
   "source": [
    "### Methods"
   ]
  },
  {
   "cell_type": "code",
   "execution_count": 12,
   "id": "1eba85ef",
   "metadata": {},
   "outputs": [],
   "source": [
    "class Student:\n",
    "    def __init__(self, name, course, level):\n",
    "        self.name = name\n",
    "        self.course = course\n",
    "        self.level = level\n",
    "        self.cgpa = 0.0\n",
    "        self.fees_paid = False\n",
    "\n",
    "    def pay_school_fees(self):\n",
    "        self.fees_paid = True\n",
    "        return f\"{self.name} has paid school fees for {self.level} level\"\n",
    "    \n",
    "    def register_courses(self):\n",
    "        if self.fees_paid:\n",
    "            return f\"{self.name} has registered courses for {self.course}\"\n",
    "        else:\n",
    "            return f\"{self.name} must pay school fees first\"\n",
    "        \n",
    "    def calculate_cgpa(self, grades):\n",
    "        if grades:\n",
    "            self.cgpa = sum(grades)/ len(grades)\n",
    "            return f\"{self.name}'s CGPA is now {self.cgpa:.2f}\"\n",
    "        return \"No grades provided\""
   ]
  },
  {
   "cell_type": "code",
   "execution_count": 13,
   "id": "cb1a0b29",
   "metadata": {},
   "outputs": [
    {
     "name": "stdout",
     "output_type": "stream",
     "text": [
      "Daniel Oyegbade has paid school fees for 500 level\n",
      "Daniel Oyegbade has registered courses for Computer Science\n",
      "Daniel Oyegbade's CGPA is now 3.88\n"
     ]
    }
   ],
   "source": [
    "daniel = Student(\"Daniel Oyegbade\", \"Computer Science\", 500)\n",
    "print(daniel.pay_school_fees())\n",
    "print(daniel.register_courses())\n",
    "print(daniel.calculate_cgpa([4.2, 3.8, 4.0, 3.5]))"
   ]
  },
  {
   "cell_type": "markdown",
   "id": "00f0e97c",
   "metadata": {},
   "source": [
    "#### instance methods: works with specific object data"
   ]
  },
  {
   "cell_type": "code",
   "execution_count": 14,
   "id": "6a1618cb",
   "metadata": {},
   "outputs": [],
   "source": [
    "def pay_school_fees(self):\n",
    "    return f\"{self.name} has paid school fees\""
   ]
  },
  {
   "cell_type": "markdown",
   "id": "02969b32",
   "metadata": {},
   "source": [
    "#### Class methods: work with class-level data"
   ]
  },
  {
   "cell_type": "code",
   "execution_count": 15,
   "id": "1ff86e82",
   "metadata": {},
   "outputs": [],
   "source": [
    "@classmethod\n",
    "def get_university(cls):\n",
    "    return cls.university"
   ]
  },
  {
   "cell_type": "code",
   "execution_count": 16,
   "id": "56d46ae3",
   "metadata": {},
   "outputs": [],
   "source": [
    "@staticmethod\n",
    "def academic_calendar():\n",
    "    return 'Academic session runs from September to July'"
   ]
  },
  {
   "cell_type": "markdown",
   "id": "4cea5074",
   "metadata": {},
   "source": [
    "#### How attributes and methods work together"
   ]
  },
  {
   "cell_type": "code",
   "execution_count": null,
   "id": "05dff839",
   "metadata": {},
   "outputs": [],
   "source": [
    "class BankAccount:\n",
    "    def __init__(self, owner, bank_name, balance=0):\n",
    "        #Attributes describes what the account has\n",
    "        self.owner = owner\n",
    "        self.bank_name = bank_name\n",
    "        self.balance = balance\n",
    "        self.account_number = self.generate_account_number()\n",
    "\n",
    "    #Methods: describes what the account can do\n",
    "    def deposit(self, amount):\n",
    "        \"\"\"Add money to the account\"\"\"\n",
    "        if amount > 0:\n",
    "            self.balane += amount #method changes attribute\n",
    "            return f\"₦ {amount:,} deposited to {self.owner}'s {self.bank_name} account. New balance: ₦{self.balance:,}\"\n",
    "        return \"Invlid deposit amount\"\n",
    "    \n",
    "    def withdrwa(self, amount):\n",
    "        \"\"\"Remonve money from the account\"\"\"\n",
    "        if amount > 0 and amount<= self.balance:\n",
    "            self.balance -= amount \n",
    "            return f\"₦{amount:,} withdrawn from {self.owner}'s account. New balance: ₦{self.balance:,}\"\n",
    "        return \"Insufficient funds on invalid amount\"\n",
    "    \n",
    "    def transfer(self, amount, recipient):\n",
    "        \"\"\"Transfer money to another account\"\"\"\n",
    "        if amount > 0 and amount <= self.balance:\n",
    "            self.balance -= amount\n",
    "            return f\"₦{amount:,} transferred from {self.owner} to {recipient}. Remaining balance: ₦{self.balance:,}\"\n",
    "        return \"Transfer failed: Insufficient funds\"\n",
    "    \n",
    "    def check_balance(self):\n",
    "        \"\"\"Check current balance\"\"\"\n",
    "        return f\"{self.owner}'s {self.bank_name} account balance: ₦{self.balance:,}\"\n",
    "    \n",
    "    def generate_account_number(self):\n",
    "        \"\"\"Generate a unique account number\"\"\"\n",
    "        import random \n",
    "        return f\"01{random.randint(10000000, 9999999)}\""
   ]
  }
 ],
 "metadata": {
  "kernelspec": {
   "display_name": "Python 3",
   "language": "python",
   "name": "python3"
  },
  "language_info": {
   "codemirror_mode": {
    "name": "ipython",
    "version": 3
   },
   "file_extension": ".py",
   "mimetype": "text/x-python",
   "name": "python",
   "nbconvert_exporter": "python",
   "pygments_lexer": "ipython3",
   "version": "3.13.6"
  }
 },
 "nbformat": 4,
 "nbformat_minor": 5
}

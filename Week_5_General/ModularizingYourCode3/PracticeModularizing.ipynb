{
 "cells": [
  {
   "cell_type": "code",
   "execution_count": 1,
   "id": "7d9dad0a",
   "metadata": {},
   "outputs": [],
   "source": [
    "class Student:\n",
    "    def __init__(self, name, course, level):\n",
    "        print(\"Creating a new student\")\n",
    "        self.name = name\n",
    "        self.course = course\n",
    "        self.level = level\n",
    "        print(f\"Student {name} has been created\")"
   ]
  },
  {
   "cell_type": "code",
   "execution_count": 2,
   "id": "c2cc2985",
   "metadata": {},
   "outputs": [
    {
     "name": "stdout",
     "output_type": "stream",
     "text": [
      "Creating a new student\n",
      "Student Kemi Adebayo has been created\n"
     ]
    }
   ],
   "source": [
    "kemi = Student(\"Kemi Adebayo\", \"AI\", 300)"
   ]
  },
  {
   "cell_type": "markdown",
   "id": "d410b476",
   "metadata": {},
   "source": [
    "**How init and self work together**"
   ]
  },
  {
   "cell_type": "code",
   "execution_count": 3,
   "id": "a148f8d6",
   "metadata": {},
   "outputs": [
    {
     "name": "stdout",
     "output_type": "stream",
     "text": [
      "Step 1: Creating student object...\n",
      "Step 6: Ayo Daniel from Lagos is ready\n",
      "UNISAL9641\n"
     ]
    }
   ],
   "source": [
    "class NigerianStudent:\n",
    "    def __init__(self, name, state, course):\n",
    "        print(f\"Step 1: Creating student object...\")\n",
    "        self.name = name\n",
    "        self.state_of_origin = state\n",
    "        self.course = course\n",
    "        self.student_id = self.generate_id()\n",
    "        print(f\"Step 6: {self.name} from {self.state_of_origin} is ready\")\n",
    "\n",
    "    def generate_id(self):\n",
    "        import random\n",
    "        return f'UNISAL{random.randint(1000, 9999)}'\n",
    "    \n",
    "ayo = NigerianStudent(\"Ayo Daniel\", \"Lagos\", \"Stat\")\n",
    "print(ayo.student_id)"
   ]
  },
  {
   "cell_type": "code",
   "execution_count": 4,
   "id": "8532d7c9",
   "metadata": {},
   "outputs": [],
   "source": [
    "class PhoneUser:\n",
    "    def __init__(self, name, network):\n",
    "        self.name = name\n",
    "        self.network = network\n",
    "        self.airtime = 0\n",
    "        print(f\"{self.name} joined {self.network} network\")\n",
    "    \n",
    "    def buy_airtime(self, amount):\n",
    "        self.airtime += amount \n",
    "        return f'{self.name} now has ₦{self.airtime} airtime'"
   ]
  },
  {
   "cell_type": "code",
   "execution_count": 5,
   "id": "fb335c61",
   "metadata": {},
   "outputs": [
    {
     "name": "stdout",
     "output_type": "stream",
     "text": [
      "Abeeb Bakare joined MTN network\n",
      "Kudoro Esther joined Airtel network\n"
     ]
    }
   ],
   "source": [
    "abeeb = PhoneUser(\"Abeeb Bakare\", \"MTN\")\n",
    "esther = PhoneUser(\"Kudoro Esther\", \"Airtel\")"
   ]
  },
  {
   "cell_type": "code",
   "execution_count": 6,
   "id": "bbf472fe",
   "metadata": {},
   "outputs": [
    {
     "name": "stdout",
     "output_type": "stream",
     "text": [
      "Abeeb Bakare now has ₦500 airtime\n",
      "Kudoro Esther now has ₦1000 airtime\n",
      "500\n",
      "1000\n"
     ]
    }
   ],
   "source": [
    "print(abeeb.buy_airtime(500))\n",
    "print(esther.buy_airtime(1000))\n",
    "print(abeeb.airtime)\n",
    "print(esther.airtime)"
   ]
  },
  {
   "cell_type": "code",
   "execution_count": 7,
   "id": "47f7a5ec",
   "metadata": {},
   "outputs": [],
   "source": [
    "class Student:\n",
    "    def __init__(self, name, course, level, state_of_origin):\n",
    "        self.name = name\n",
    "        self.course = course\n",
    "        self.level = level\n",
    "        self.state_of_origin = state_of_origin\n",
    "        self.cgpa =0.0\n",
    "        "
   ]
  },
  {
   "cell_type": "code",
   "execution_count": 8,
   "id": "a3a33c80",
   "metadata": {},
   "outputs": [],
   "source": [
    "daniel = Student(\"Daniel Oyebade\", \"Biochemistry\", 300, \"Ogun State\")\n"
   ]
  },
  {
   "cell_type": "code",
   "execution_count": 9,
   "id": "c0d43d2b",
   "metadata": {},
   "outputs": [
    {
     "name": "stdout",
     "output_type": "stream",
     "text": [
      "Daniel Oyebade\n",
      "Biochemistry\n",
      "Ogun State\n"
     ]
    }
   ],
   "source": [
    "print(daniel.name)\n",
    "print(daniel.course)\n",
    "print(daniel.state_of_origin)"
   ]
  },
  {
   "cell_type": "markdown",
   "id": "136366c0",
   "metadata": {},
   "source": [
    "#### instance attributes"
   ]
  },
  {
   "cell_type": "code",
   "execution_count": 10,
   "id": "8a68d2fa",
   "metadata": {},
   "outputs": [
    {
     "name": "stdout",
     "output_type": "stream",
     "text": [
      "Hamid Jimoh\n",
      "Mary Adeoye\n"
     ]
    }
   ],
   "source": [
    "student1 = Student(\"Hamid Jimoh\", \"Engineering\", 200, \"Ogun\")\n",
    "student2 = Student(\"Mary Adeoye\", \"Medicine\", 400, \"Lagos\")\n",
    "\n",
    "print(student1.name)\n",
    "print(student2.name)"
   ]
  },
  {
   "cell_type": "markdown",
   "id": "54520626",
   "metadata": {},
   "source": [
    "#### class attributes"
   ]
  },
  {
   "cell_type": "code",
   "execution_count": 11,
   "id": "4c2af148",
   "metadata": {},
   "outputs": [
    {
     "name": "stdout",
     "output_type": "stream",
     "text": [
      "Federal University of Technology Akure\n",
      "Federal University of Technology Akure\n"
     ]
    }
   ],
   "source": [
    "class Student:\n",
    "    university = \"Federal University of Technology Akure\"\n",
    "\n",
    "    def __init__(self, name, course):\n",
    "        self.name = name\n",
    "        self.course = course\n",
    "\n",
    "student1 = Student(\"Hamid Jimoh\", \"Engineering\")\n",
    "student2 = Student(\"Mary Adeoye\", \"Medicine\")    \n",
    "\n",
    "print(Student.university)\n",
    "print(student1.university)"
   ]
  },
  {
   "cell_type": "markdown",
   "id": "d94d64db",
   "metadata": {},
   "source": [
    "### Methods"
   ]
  },
  {
   "cell_type": "code",
   "execution_count": 20,
   "id": "1eba85ef",
   "metadata": {},
   "outputs": [],
   "source": [
    "class Student:\n",
    "    def __init__(self, name, course, level):\n",
    "        self.name = name\n",
    "        self.course = course\n",
    "        self.level = level\n",
    "        self.cgpa = 0.0\n",
    "        self.fees_paid = False\n",
    "\n",
    "    def pay_school_fees(self):\n",
    "        self.fees_paid = True\n",
    "        return f\"{self.name} has paid school fees for {self.level} level\"\n",
    "    \n",
    "    def register_courses(self):\n",
    "        if self.fees_paid:\n",
    "            return f\"{self.name} has registered courses for {self.course}\"\n",
    "        else:\n",
    "            return f\"{self.name} must pay school fees first\"\n",
    "        \n",
    "    def calculate_cgpa(self, grades):\n",
    "        if grades:\n",
    "            self.cgpa = sum(grades)/ len(grades)\n",
    "            return f\"{self.name}'s CGPA is now {self.cgpa:.2f}\"\n",
    "        return \"No grades provided\""
   ]
  },
  {
   "cell_type": "code",
   "execution_count": 21,
   "id": "cb1a0b29",
   "metadata": {},
   "outputs": [
    {
     "name": "stdout",
     "output_type": "stream",
     "text": [
      "Daniel Oyegbade has paid school fees for 500 level\n",
      "Daniel Oyegbade has registered courses for Computer Science\n",
      "Daniel Oyegbade's CGPA is now 3.88\n"
     ]
    }
   ],
   "source": [
    "daniel = Student(\"Daniel Oyegbade\", \"Computer Science\", 500)\n",
    "print(daniel.pay_school_fees())\n",
    "print(daniel.register_courses())\n",
    "print(daniel.calculate_cgpa([4.2, 3.8, 4.0, 3.5]))"
   ]
  },
  {
   "cell_type": "markdown",
   "id": "00f0e97c",
   "metadata": {},
   "source": [
    "#### instance methods: works with specific object data"
   ]
  },
  {
   "cell_type": "code",
   "execution_count": 14,
   "id": "6a1618cb",
   "metadata": {},
   "outputs": [],
   "source": [
    "def pay_school_fees(self):\n",
    "    return f\"{self.name} has paid school fees\""
   ]
  },
  {
   "cell_type": "markdown",
   "id": "02969b32",
   "metadata": {},
   "source": [
    "#### Class methods: work with class-level data"
   ]
  },
  {
   "cell_type": "code",
   "execution_count": 15,
   "id": "1ff86e82",
   "metadata": {},
   "outputs": [],
   "source": [
    "@classmethod\n",
    "def get_university(cls):\n",
    "    return cls.university"
   ]
  },
  {
   "cell_type": "code",
   "execution_count": 16,
   "id": "56d46ae3",
   "metadata": {},
   "outputs": [],
   "source": [
    "@staticmethod\n",
    "def academic_calendar():\n",
    "    return 'Academic session runs from September to July'"
   ]
  },
  {
   "cell_type": "markdown",
   "id": "4cea5074",
   "metadata": {},
   "source": [
    "#### How attributes and methods work together"
   ]
  },
  {
   "cell_type": "code",
   "execution_count": 60,
   "id": "05dff839",
   "metadata": {},
   "outputs": [],
   "source": [
    "class BankAccount:\n",
    "    def __init__(self, owner, bank_name, balance=0):\n",
    "        #Attributes describes what the account has\n",
    "        self.owner = owner\n",
    "        self.bank_name = bank_name\n",
    "        self.balance = balance\n",
    "        self.account_number = self.generate_account_number()\n",
    "\n",
    "    #Methods: describes what the account can do\n",
    "    def deposit(self, amount):\n",
    "        \"\"\"Add money to the account\"\"\"\n",
    "        if amount > 0:\n",
    "            self.balance += amount #method changes attribute\n",
    "            return f\"₦{amount:,} deposited to {self.owner}'s {self.bank_name} account. New balance: ₦{self.balance:,}\"\n",
    "        return \"Invlid deposit amount\"\n",
    "    \n",
    "    def withdraw(self, amount):\n",
    "        \"\"\"Remonve money from the account\"\"\"\n",
    "        if amount > 0 and amount<= self.balance:\n",
    "            self.balance -= amount \n",
    "            return f\"₦{amount:,} withdrawn from {self.owner}'s account. New balance: ₦{self.balance:,}\"\n",
    "        return \"Insufficient funds on invalid amount\"\n",
    "    \n",
    "    def transfer(self, amount, recipient):\n",
    "        \"\"\"Transfer money to another account\"\"\"\n",
    "        if amount > 0 and amount <= self.balance:\n",
    "            self.balance -= amount\n",
    "            return f\"₦{amount:,} transferred from {self.owner} to {recipient}. Remaining balance: ₦{self.balance:,}\"\n",
    "        return \"Transfer failed: Insufficient funds\"\n",
    "    \n",
    "    def check_balance(self):\n",
    "        \"\"\"Check current balance\"\"\"\n",
    "        return f\"{self.owner}'s {self.bank_name} account balance: ₦{self.balance:,}\"\n",
    "    \n",
    "    def generate_account_number(self):\n",
    "        \"\"\"Generate a unique account number\"\"\"\n",
    "        import random \n",
    "        return f\"01{random.randint(10000000, 99999999)}\""
   ]
  },
  {
   "cell_type": "code",
   "execution_count": 61,
   "id": "a9907d7e",
   "metadata": {},
   "outputs": [],
   "source": [
    "esther_account = BankAccount(\"Esther Kudoro\", \"Globus Bank\", 50000)"
   ]
  },
  {
   "cell_type": "code",
   "execution_count": 62,
   "id": "e0ded580",
   "metadata": {},
   "outputs": [
    {
     "name": "stdout",
     "output_type": "stream",
     "text": [
      "Account Owner: Esther Kudoro\n",
      "Bank: Globus Bank\n",
      "Account Number: 0172343327\n"
     ]
    }
   ],
   "source": [
    "print(f\"Account Owner: {esther_account.owner}\")\n",
    "print(f\"Bank: {esther_account.bank_name}\")\n",
    "print(f\"Account Number: {esther_account.account_number}\")"
   ]
  },
  {
   "cell_type": "code",
   "execution_count": 63,
   "id": "e174317e",
   "metadata": {},
   "outputs": [
    {
     "name": "stdout",
     "output_type": "stream",
     "text": [
      "₦25,000 deposited to Esther Kudoro's Globus Bank account. New balance: ₦75,000\n",
      "₦10,000 withdrawn from Esther Kudoro's account. New balance: ₦65,000\n",
      "₦15,000 transferred from Esther Kudoro to Blessing James. Remaining balance: ₦50,000\n",
      "Esther Kudoro's Globus Bank account balance: ₦50,000\n"
     ]
    }
   ],
   "source": [
    "#Methods (actions)\n",
    "print(esther_account.deposit(25000))\n",
    "print(esther_account.withdraw(10000))\n",
    "print(esther_account.transfer(15000, \"Blessing James\"))\n",
    "print(esther_account.check_balance())"
   ]
  },
  {
   "cell_type": "code",
   "execution_count": 76,
   "id": "c92499b2",
   "metadata": {},
   "outputs": [],
   "source": [
    "class NaijaPhone:\n",
    "    def __init__(self, brand, model, network_provider):\n",
    "        self.brand = brand\n",
    "        self.model = model\n",
    "        self.network_provider = network_provider\n",
    "        self.airtime_balance = 0\n",
    "        self.data_balance = 0\n",
    "        self.is_on = False\n",
    "\n",
    "    def power_on(self):\n",
    "        self.is_on = True\n",
    "        return f\"{self.brand} phone is now on. Network: {self.network_provider}\"\n",
    "    \n",
    "    def buy_airtime(self, amount):\n",
    "        self.airtime_balance += amount\n",
    "        return f'₦{amount} airtime purchased. Balance: ₦{self.airtime_balance}'\n",
    "    \n",
    "    def make_call(self, number):\n",
    "        if self.is_on and self.airtime_balance > 0:\n",
    "            self.airtime_balance -=10\n",
    "            return f'Calling {number}... Remaining airtime: ₦{self.airtime_balance}'\n",
    "        return 'Cannot make call. Check phone power and airtime balance'\n",
    "    \n",
    "    def send_sms(self, message, number):\n",
    "        if self.airtime_balance >=4:\n",
    "            self.airtime_balance -=4\n",
    "            return f\"SMS sent to {number}: '{message}'. \\nRemaining airtime: ₦{self.airtime_balance}\"\n",
    "        return \"Insufficient airtime to send SMS\""
   ]
  },
  {
   "cell_type": "code",
   "execution_count": 77,
   "id": "082940a4",
   "metadata": {},
   "outputs": [
    {
     "name": "stdout",
     "output_type": "stream",
     "text": [
      "₦500 airtime purchased. Balance: ₦500\n",
      "Redmi phone is now on. Network: MTN\n",
      "Calling 90123456780... Remaining airtime: ₦490\n",
      "Calling 90123456782... Remaining airtime: ₦480\n",
      "SMS sent to 90123456782: 'How are you doing'. \n",
      "Remaining airtime: ₦476\n"
     ]
    }
   ],
   "source": [
    "phone = NaijaPhone('Redmi', '15C', 'MTN')\n",
    "print(phone.buy_airtime(500))\n",
    "print(phone.power_on())\n",
    "print(phone.make_call(90123456780))\n",
    "print(phone.make_call(90123456782))\n",
    "print(phone.send_sms('How are you doing', 90123456782))"
   ]
  },
  {
   "cell_type": "code",
   "execution_count": null,
   "id": "09e8f91e",
   "metadata": {},
   "outputs": [],
   "source": [
    "class BRTBus:\n",
    "    def __init__(self, route, bus_number):\n",
    "        self.route = route\n",
    "        self.bus_number = bus_number\n",
    "        self.current_stop = \"Ikorodu\"\n",
    "        self.passenger_count = 0\n",
    "        self.fare = 300\n",
    "\n",
    "    def announce_stop(self):\n",
    "        return f'Next stop: {self.current_stop}. Fare is ₦{self.fare}'\n",
    "    \n",
    "    def board_passengers(self, count):\n",
    "        self.passenger_count += count\n",
    "        return f'{count} passengers boarded. Total: {self.passenger_count}'"
   ]
  }
 ],
 "metadata": {
  "kernelspec": {
   "display_name": "Python 3",
   "language": "python",
   "name": "python3"
  },
  "language_info": {
   "codemirror_mode": {
    "name": "ipython",
    "version": 3
   },
   "file_extension": ".py",
   "mimetype": "text/x-python",
   "name": "python",
   "nbconvert_exporter": "python",
   "pygments_lexer": "ipython3",
   "version": "3.13.6"
  }
 },
 "nbformat": 4,
 "nbformat_minor": 5
}

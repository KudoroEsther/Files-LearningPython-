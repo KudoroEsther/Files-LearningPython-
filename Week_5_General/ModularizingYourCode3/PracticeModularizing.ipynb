{
 "cells": [
  {
   "cell_type": "code",
   "execution_count": 1,
   "id": "7d9dad0a",
   "metadata": {},
   "outputs": [],
   "source": [
    "class Student:\n",
    "    def __init__(self, name, course, level):\n",
    "        print(\"Creating a new student\")\n",
    "        self.name = name\n",
    "        self.course = course\n",
    "        self.level = level\n",
    "        print(f\"Student {name} has been created\")"
   ]
  },
  {
   "cell_type": "code",
   "execution_count": 2,
   "id": "c2cc2985",
   "metadata": {},
   "outputs": [
    {
     "name": "stdout",
     "output_type": "stream",
     "text": [
      "Creating a new student\n",
      "Student Kemi Adebayo has been created\n"
     ]
    }
   ],
   "source": [
    "kemi = Student(\"Kemi Adebayo\", \"AI\", 300)"
   ]
  },
  {
   "cell_type": "markdown",
   "id": "d410b476",
   "metadata": {},
   "source": [
    "**How init and self work together**"
   ]
  },
  {
   "cell_type": "code",
   "execution_count": 3,
   "id": "a148f8d6",
   "metadata": {},
   "outputs": [
    {
     "name": "stdout",
     "output_type": "stream",
     "text": [
      "Step 1: Creating student object...\n",
      "Step 6: Ayo Daniel from Lagos is ready\n",
      "UNISAL6693\n"
     ]
    }
   ],
   "source": [
    "class NigerianStudent:\n",
    "    def __init__(self, name, state, course):\n",
    "        print(f\"Step 1: Creating student object...\")\n",
    "        self.name = name\n",
    "        self.state_of_origin = state\n",
    "        self.course = course\n",
    "        self.student_id = self.generate_id()\n",
    "        print(f\"Step 6: {self.name} from {self.state_of_origin} is ready\")\n",
    "\n",
    "    def generate_id(self):\n",
    "        import random\n",
    "        return f'UNISAL{random.randint(1000, 9999)}'\n",
    "    \n",
    "ayo = NigerianStudent(\"Ayo Daniel\", \"Lagos\", \"Stat\")\n",
    "print(ayo.student_id)"
   ]
  },
  {
   "cell_type": "code",
   "execution_count": 4,
   "id": "8532d7c9",
   "metadata": {},
   "outputs": [],
   "source": [
    "class PhoneUser:\n",
    "    def __init__(self, name, network):\n",
    "        self.name = name\n",
    "        self.network = network\n",
    "        self.airtime = 0\n",
    "        print(f\"{self.name} joined {self.network} network\")\n",
    "    \n",
    "    def buy_airtime(self, amount):\n",
    "        self.airtime += amount \n",
    "        return f'{self.name} now has ₦{self.airtime} airtime'"
   ]
  },
  {
   "cell_type": "code",
   "execution_count": 5,
   "id": "fb335c61",
   "metadata": {},
   "outputs": [
    {
     "name": "stdout",
     "output_type": "stream",
     "text": [
      "Abeeb Bakare joined MTN network\n",
      "Kudoro Esther joined Airtel network\n"
     ]
    }
   ],
   "source": [
    "abeeb = PhoneUser(\"Abeeb Bakare\", \"MTN\")\n",
    "esther = PhoneUser(\"Kudoro Esther\", \"Airtel\")"
   ]
  },
  {
   "cell_type": "code",
   "execution_count": 6,
   "id": "bbf472fe",
   "metadata": {},
   "outputs": [
    {
     "name": "stdout",
     "output_type": "stream",
     "text": [
      "Abeeb Bakare now has ₦500 airtime\n",
      "Kudoro Esther now has ₦1000 airtime\n",
      "500\n",
      "1000\n"
     ]
    }
   ],
   "source": [
    "print(abeeb.buy_airtime(500))\n",
    "print(esther.buy_airtime(1000))\n",
    "print(abeeb.airtime)\n",
    "print(esther.airtime)"
   ]
  },
  {
   "cell_type": "code",
   "execution_count": 7,
   "id": "47f7a5ec",
   "metadata": {},
   "outputs": [],
   "source": [
    "class Student:\n",
    "    def __init__(self, name, course, level, state_of_origin):\n",
    "        self.name = name\n",
    "        self.course = course\n",
    "        self.level = level\n",
    "        self.state_of_origin = state_of_origin\n",
    "        self.cgpa =0.0\n",
    "        "
   ]
  },
  {
   "cell_type": "code",
   "execution_count": 8,
   "id": "a3a33c80",
   "metadata": {},
   "outputs": [],
   "source": [
    "daniel = Student(\"Daniel Oyebade\", \"Biochemistry\", 300, \"Ogun State\")\n"
   ]
  },
  {
   "cell_type": "code",
   "execution_count": 9,
   "id": "c0d43d2b",
   "metadata": {},
   "outputs": [
    {
     "name": "stdout",
     "output_type": "stream",
     "text": [
      "Daniel Oyebade\n",
      "Biochemistry\n",
      "Ogun State\n"
     ]
    }
   ],
   "source": [
    "print(daniel.name)\n",
    "print(daniel.course)\n",
    "print(daniel.state_of_origin)"
   ]
  },
  {
   "cell_type": "markdown",
   "id": "136366c0",
   "metadata": {},
   "source": [
    "#### instance attributes"
   ]
  },
  {
   "cell_type": "code",
   "execution_count": 10,
   "id": "8a68d2fa",
   "metadata": {},
   "outputs": [
    {
     "name": "stdout",
     "output_type": "stream",
     "text": [
      "Hamid Jimoh\n",
      "Mary Adeoye\n"
     ]
    }
   ],
   "source": [
    "student1 = Student(\"Hamid Jimoh\", \"Engineering\", 200, \"Ogun\")\n",
    "student2 = Student(\"Mary Adeoye\", \"Medicine\", 400, \"Lagos\")\n",
    "\n",
    "print(student1.name)\n",
    "print(student2.name)"
   ]
  },
  {
   "cell_type": "markdown",
   "id": "54520626",
   "metadata": {},
   "source": [
    "#### class attributes"
   ]
  },
  {
   "cell_type": "code",
   "execution_count": 11,
   "id": "4c2af148",
   "metadata": {},
   "outputs": [
    {
     "name": "stdout",
     "output_type": "stream",
     "text": [
      "Federal University of Technology Akure\n",
      "Federal University of Technology Akure\n"
     ]
    }
   ],
   "source": [
    "class Student:\n",
    "    university = \"Federal University of Technology Akure\"\n",
    "\n",
    "    def __init__(self, name, course):\n",
    "        self.name = name\n",
    "        self.course = course\n",
    "\n",
    "student1 = Student(\"Hamid Jimoh\", \"Engineering\")\n",
    "student2 = Student(\"Mary Adeoye\", \"Medicine\")    \n",
    "\n",
    "print(Student.university)\n",
    "print(student1.university)"
   ]
  },
  {
   "cell_type": "markdown",
   "id": "d94d64db",
   "metadata": {},
   "source": [
    "### Methods"
   ]
  },
  {
   "cell_type": "code",
   "execution_count": 12,
   "id": "1eba85ef",
   "metadata": {},
   "outputs": [],
   "source": [
    "class Student:\n",
    "    def __init__(self, name, course, level):\n",
    "        self.name = name\n",
    "        self.course = course\n",
    "        self.level = level\n",
    "        self.cgpa = 0.0\n",
    "        self.fees_paid = False\n",
    "\n",
    "    def pay_school_fees(self):\n",
    "        self.fees_paid = True\n",
    "        return f\"{self.name} has paid school fees for {self.level} level\"\n",
    "    \n",
    "    def register_courses(self):\n",
    "        if self.fees_paid:\n",
    "            return f\"{self.name} has registered courses for {self.course}\"\n",
    "        else:\n",
    "            return f\"{self.name} must pay school fees first\"\n",
    "        \n",
    "    def calculate_cgpa(self, grades):\n",
    "        if grades:\n",
    "            self.cgpa = sum(grades)/ len(grades)\n",
    "            return f\"{self.name}'s CGPA is now {self.cgpa:.2f}\"\n",
    "        return \"No grades provided\""
   ]
  },
  {
   "cell_type": "code",
   "execution_count": 13,
   "id": "cb1a0b29",
   "metadata": {},
   "outputs": [
    {
     "name": "stdout",
     "output_type": "stream",
     "text": [
      "Daniel Oyegbade has paid school fees for 500 level\n",
      "Daniel Oyegbade has registered courses for Computer Science\n",
      "Daniel Oyegbade's CGPA is now 3.88\n"
     ]
    }
   ],
   "source": [
    "daniel = Student(\"Daniel Oyegbade\", \"Computer Science\", 500)\n",
    "print(daniel.pay_school_fees())\n",
    "print(daniel.register_courses())\n",
    "print(daniel.calculate_cgpa([4.2, 3.8, 4.0, 3.5]))"
   ]
  },
  {
   "cell_type": "markdown",
   "id": "00f0e97c",
   "metadata": {},
   "source": [
    "#### instance methods: works with specific object data"
   ]
  },
  {
   "cell_type": "code",
   "execution_count": 14,
   "id": "6a1618cb",
   "metadata": {},
   "outputs": [],
   "source": [
    "def pay_school_fees(self):\n",
    "    return f\"{self.name} has paid school fees\""
   ]
  },
  {
   "cell_type": "markdown",
   "id": "02969b32",
   "metadata": {},
   "source": [
    "#### Class methods: work with class-level data"
   ]
  },
  {
   "cell_type": "code",
   "execution_count": 15,
   "id": "1ff86e82",
   "metadata": {},
   "outputs": [],
   "source": [
    "@classmethod\n",
    "def get_university(cls):\n",
    "    return cls.university"
   ]
  },
  {
   "cell_type": "code",
   "execution_count": 16,
   "id": "56d46ae3",
   "metadata": {},
   "outputs": [],
   "source": [
    "@staticmethod\n",
    "def academic_calendar():\n",
    "    return 'Academic session runs from September to July'"
   ]
  },
  {
   "cell_type": "markdown",
   "id": "4cea5074",
   "metadata": {},
   "source": [
    "#### How attributes and methods work together"
   ]
  },
  {
   "cell_type": "code",
   "execution_count": 17,
   "id": "05dff839",
   "metadata": {},
   "outputs": [],
   "source": [
    "class BankAccount:\n",
    "    def __init__(self, owner, bank_name, balance=0):\n",
    "        #Attributes describes what the account has\n",
    "        self.owner = owner\n",
    "        self.bank_name = bank_name\n",
    "        self.balance = balance\n",
    "        self.account_number = self.generate_account_number()\n",
    "\n",
    "    #Methods: describes what the account can do\n",
    "    def deposit(self, amount):\n",
    "        \"\"\"Add money to the account\"\"\"\n",
    "        if amount > 0:\n",
    "            self.balance += amount #method changes attribute\n",
    "            return f\"₦{amount:,} deposited to {self.owner}'s {self.bank_name} account. New balance: ₦{self.balance:,}\"\n",
    "        return \"Invlid deposit amount\"\n",
    "    \n",
    "    def withdraw(self, amount):\n",
    "        \"\"\"Remonve money from the account\"\"\"\n",
    "        if amount > 0 and amount<= self.balance:\n",
    "            self.balance -= amount \n",
    "            return f\"₦{amount:,} withdrawn from {self.owner}'s account. New balance: ₦{self.balance:,}\"\n",
    "        return \"Insufficient funds on invalid amount\"\n",
    "    \n",
    "    def transfer(self, amount, recipient):\n",
    "        \"\"\"Transfer money to another account\"\"\"\n",
    "        if amount > 0 and amount <= self.balance:\n",
    "            self.balance -= amount\n",
    "            return f\"₦{amount:,} transferred from {self.owner} to {recipient}. Remaining balance: ₦{self.balance:,}\"\n",
    "        return \"Transfer failed: Insufficient funds\"\n",
    "    \n",
    "    def check_balance(self):\n",
    "        \"\"\"Check current balance\"\"\"\n",
    "        return f\"{self.owner}'s {self.bank_name} account balance: ₦{self.balance:,}\"\n",
    "    \n",
    "    def generate_account_number(self):\n",
    "        \"\"\"Generate a unique account number\"\"\"\n",
    "        import random \n",
    "        return f\"01{random.randint(10000000, 99999999)}\""
   ]
  },
  {
   "cell_type": "code",
   "execution_count": 18,
   "id": "a9907d7e",
   "metadata": {},
   "outputs": [],
   "source": [
    "esther_account = BankAccount(\"Esther Kudoro\", \"Globus Bank\", 50000)"
   ]
  },
  {
   "cell_type": "code",
   "execution_count": 19,
   "id": "e0ded580",
   "metadata": {},
   "outputs": [
    {
     "name": "stdout",
     "output_type": "stream",
     "text": [
      "Account Owner: Esther Kudoro\n",
      "Bank: Globus Bank\n",
      "Account Number: 0193455137\n"
     ]
    }
   ],
   "source": [
    "print(f\"Account Owner: {esther_account.owner}\")\n",
    "print(f\"Bank: {esther_account.bank_name}\")\n",
    "print(f\"Account Number: {esther_account.account_number}\")"
   ]
  },
  {
   "cell_type": "code",
   "execution_count": 20,
   "id": "e174317e",
   "metadata": {},
   "outputs": [
    {
     "name": "stdout",
     "output_type": "stream",
     "text": [
      "₦25,000 deposited to Esther Kudoro's Globus Bank account. New balance: ₦75,000\n",
      "₦10,000 withdrawn from Esther Kudoro's account. New balance: ₦65,000\n",
      "₦15,000 transferred from Esther Kudoro to Blessing James. Remaining balance: ₦50,000\n",
      "Esther Kudoro's Globus Bank account balance: ₦50,000\n"
     ]
    }
   ],
   "source": [
    "#Methods (actions)\n",
    "print(esther_account.deposit(25000))\n",
    "print(esther_account.withdraw(10000))\n",
    "print(esther_account.transfer(15000, \"Blessing James\"))\n",
    "print(esther_account.check_balance())"
   ]
  },
  {
   "cell_type": "code",
   "execution_count": 21,
   "id": "c92499b2",
   "metadata": {},
   "outputs": [],
   "source": [
    "class NaijaPhone:\n",
    "    def __init__(self, brand, model, network_provider):\n",
    "        self.brand = brand\n",
    "        self.model = model\n",
    "        self.network_provider = network_provider\n",
    "        self.airtime_balance = 0\n",
    "        self.data_balance = 0\n",
    "        self.is_on = False\n",
    "\n",
    "    def power_on(self):\n",
    "        self.is_on = True\n",
    "        return f\"{self.brand} phone is now on. Network: {self.network_provider}\"\n",
    "    \n",
    "    def buy_airtime(self, amount):\n",
    "        self.airtime_balance += amount\n",
    "        return f'₦{amount} airtime purchased. Balance: ₦{self.airtime_balance}'\n",
    "    \n",
    "    def make_call(self, number):\n",
    "        if self.is_on and self.airtime_balance > 0:\n",
    "            self.airtime_balance -=10\n",
    "            return f'Calling {number}... Remaining airtime: ₦{self.airtime_balance}'\n",
    "        return 'Cannot make call. Check phone power and airtime balance'\n",
    "    \n",
    "    def send_sms(self, message, number):\n",
    "        if self.airtime_balance >=4:\n",
    "            self.airtime_balance -=4\n",
    "            return f\"SMS sent to {number}: '{message}'. \\nRemaining airtime: ₦{self.airtime_balance}\"\n",
    "        return \"Insufficient airtime to send SMS\""
   ]
  },
  {
   "cell_type": "code",
   "execution_count": 22,
   "id": "082940a4",
   "metadata": {},
   "outputs": [
    {
     "name": "stdout",
     "output_type": "stream",
     "text": [
      "₦500 airtime purchased. Balance: ₦500\n",
      "Redmi phone is now on. Network: MTN\n",
      "Calling 90123456780... Remaining airtime: ₦490\n",
      "Calling 90123456782... Remaining airtime: ₦480\n",
      "SMS sent to 90123456782: 'How are you doing'. \n",
      "Remaining airtime: ₦476\n"
     ]
    }
   ],
   "source": [
    "phone = NaijaPhone('Redmi', '15C', 'MTN')\n",
    "print(phone.buy_airtime(500))\n",
    "print(phone.power_on())\n",
    "print(phone.make_call(90123456780))\n",
    "print(phone.make_call(90123456782))\n",
    "print(phone.send_sms('How are you doing', 90123456782))"
   ]
  },
  {
   "cell_type": "code",
   "execution_count": 23,
   "id": "09e8f91e",
   "metadata": {},
   "outputs": [],
   "source": [
    "class BRTBus:\n",
    "    def __init__(self, route, bus_number):\n",
    "        self.route = route\n",
    "        self.bus_number = bus_number\n",
    "        self.current_stop = \"Ikorodu\"\n",
    "        self.passenger_count = 0\n",
    "        self.fare = 300\n",
    "\n",
    "    def announce_stop(self):\n",
    "        return f'Next stop: {self.current_stop}. Fare is ₦{self.fare}'\n",
    "    \n",
    "    def board_passengers(self, count):\n",
    "        self.passenger_count += count\n",
    "        return f'{count} passengers boarded. Total: {self.passenger_count}'"
   ]
  },
  {
   "cell_type": "code",
   "execution_count": 24,
   "id": "885d053d",
   "metadata": {},
   "outputs": [
    {
     "name": "stdout",
     "output_type": "stream",
     "text": [
      "Next stop: Ikorodu. Fare is ₦300\n",
      "4 passengers boarded. Total: 4\n",
      "2 passengers boarded. Total: 6\n"
     ]
    }
   ],
   "source": [
    "bus = BRTBus('Ikeja', 421)\n",
    "print(bus.announce_stop())\n",
    "print(bus.board_passengers(4))\n",
    "print(bus.board_passengers(2))"
   ]
  },
  {
   "cell_type": "code",
   "execution_count": 25,
   "id": "bf27e01c",
   "metadata": {},
   "outputs": [],
   "source": [
    "class MarketTrader:\n",
    "    def __init__(self, name, market_name, goods):\n",
    "        self.name = name\n",
    "        self.market_name = market_name\n",
    "        self.goods = goods\n",
    "        self.daily_sales = 0\n",
    "\n",
    "    def advertise_goods(self):\n",
    "        return f'{self.name} at {self.market_name}: Fresh {','.join(self.goods)} available'\n",
    "    \n",
    "    def make_sale(self, amount):\n",
    "        self.daily_sales += amount\n",
    "        return f\"Sale made! Today's total: ₦{self.daily_sales:,}\""
   ]
  },
  {
   "cell_type": "markdown",
   "id": "80c01e78",
   "metadata": {},
   "source": [
    "### Encapsulation"
   ]
  },
  {
   "cell_type": "code",
   "execution_count": 26,
   "id": "9b8076ed",
   "metadata": {},
   "outputs": [],
   "source": [
    "class NigerianBankAccount:\n",
    "    def __init__(self, owner, initial_balance):\n",
    "        self.owner = owner\n",
    "        self._balance = initial_balance #Protected attribute\n",
    "        self._pin = \"1234\"  #Private attribute\n",
    "        self._transaction_history = [] #protected attribute\n",
    "\n",
    "    #Public methods that can be used by anyone\n",
    "    def deposit(self, amount):\n",
    "        if amount > 0:\n",
    "            self._balance += amount\n",
    "            self._transaction_history.append(f'Deposited ₦{amount:,}')\n",
    "            return f'₦{amount:,} deposited successfully'\n",
    "        return 'Invalid deposit amount'\n",
    "    \n",
    "    def withdraw(self, amount, pin):\n",
    "        if self._verify_pin(pin): #Uses private method\n",
    "            if amount <= self._balance:\n",
    "                self._balance -= amount\n",
    "                self._transaction_history.append(f'Withdrew ₦{amount:,}')\n",
    "                return f\"₦{amount:,} withdrawn successfully\"\n",
    "            return f'Insufficient funds'\n",
    "        return 'Invalid PIN'\n",
    "    \n",
    "    def check_balance(self, pin):\n",
    "        if self._verify_pin(pin):\n",
    "            return f'Current balance: ₦{self._balance:,}'\n",
    "        return \"Invalid PIN\"\n",
    "    \n",
    "    #Private method: only the class can use this\n",
    "    def _verify_pin(self, entered_pin):\n",
    "        return entered_pin == self._pin\n",
    "    \n",
    "    #Protected method: only subclasses can use this\n",
    "    def _get_transaction_history(self):\n",
    "        return self._transaction_history.copy()"
   ]
  },
  {
   "cell_type": "code",
   "execution_count": 27,
   "id": "dacdd2f1",
   "metadata": {},
   "outputs": [
    {
     "name": "stdout",
     "output_type": "stream",
     "text": [
      "₦10,000 deposited successfully\n",
      "₦5,500 withdrawn successfully\n",
      "Current balance: ₦54,500\n"
     ]
    }
   ],
   "source": [
    "#Using the encapsulated  account\n",
    "esthers_account = NigerianBankAccount(\"Kudoro Esther\", 50000)\n",
    "\n",
    "#This work: public interface\n",
    "print(esthers_account.deposit(10000))\n",
    "print(esthers_account.withdraw(5500, \"1234\"))\n",
    "print(esthers_account.check_balance(\"1234\"))"
   ]
  },
  {
   "cell_type": "code",
   "execution_count": 28,
   "id": "1ae8f790",
   "metadata": {},
   "outputs": [
    {
     "name": "stdout",
     "output_type": "stream",
     "text": [
      "True\n",
      "1234\n"
     ]
    }
   ],
   "source": [
    "# Trying private/protected data\n",
    "print(esthers_account._verify_pin('1234'))\n",
    "print(esthers_account._pin)"
   ]
  },
  {
   "cell_type": "markdown",
   "id": "24af9cb5",
   "metadata": {},
   "source": [
    "### Abstraction"
   ]
  },
  {
   "cell_type": "code",
   "execution_count": 29,
   "id": "ee6c924b",
   "metadata": {},
   "outputs": [],
   "source": [
    "from abc import ABC, abstractmethod\n",
    "\n",
    "#Abstract base class: defines what a Nigerian student should do\n",
    "class NigerianStudent(ABC):\n",
    "    def __init__(self, name, course, level):\n",
    "        self.name = name\n",
    "        self.course = course\n",
    "        self.level = level\n",
    "        self.fees_paid = False\n",
    "\n",
    "    #concrete method: all students can do this\n",
    "    def pay_school_fees(self, amount):\n",
    "        self.fees_paid = True\n",
    "        return f'{self.name} paid ₦{amount:,} school fess'\n",
    "    \n",
    "    #Abstract method: each type of student implements differently\n",
    "    @abstractmethod\n",
    "    def study_method(self):\n",
    "        pass\n",
    "\n",
    "    @abstractmethod\n",
    "    def take_exam(self):\n",
    "        pass\n",
    "\n",
    "#Concrete classes: specific implementations\n",
    "class MedicalStudent(NigerianStudent):\n",
    "    def study_method(self):\n",
    "        return f'{self.name} studies anatomy books and practices on cadavers'\n",
    "    def take_exam(self):\n",
    "        return f'{self.name} takes practical exam in the anatomy lab'\n",
    "    \n",
    "class EngineeringStudent(NigerianStudent):\n",
    "    def study_method(self):\n",
    "        return f'{self.name} solves mathematical problems and builds prototype'\n",
    "    \n",
    "    def take_exam(self):\n",
    "        return f'{self.name} takes exam with calculations and technical drawings'\n",
    "    \n",
    "class ComputerScienceStudent(NigerianStudent):\n",
    "    def study_method(self):\n",
    "        return f'{self.name} codes programs and debugs software'\n",
    "    def take_exam(self):\n",
    "        return f'{self.name} takes practical programming exam on computer'"
   ]
  },
  {
   "cell_type": "code",
   "execution_count": 30,
   "id": "1c1f8b9c",
   "metadata": {},
   "outputs": [],
   "source": [
    "#Using abstraction\n",
    "students = [\n",
    "    MedicalStudent(\"Dr. Temitope Olayinka\", 'Medicine', 500),\n",
    "    EngineeringStudent(\"Dr. Esther Kudoro\", 'Electrial Engineering', 500),\n",
    "    EngineeringStudent(\"Dr Chinaza Obi\", 'Electrical Engineer', 500),\n",
    "    ComputerScienceStudent('Dr. Daniel Oyegbade', 'Computer Science', 500)\n",
    "]"
   ]
  },
  {
   "cell_type": "code",
   "execution_count": 31,
   "id": "6450c19c",
   "metadata": {},
   "outputs": [
    {
     "name": "stdout",
     "output_type": "stream",
     "text": [
      "Dr. Temitope Olayinka paid ₦150,000 school fess\n",
      "Dr. Temitope Olayinka studies anatomy books and practices on cadavers\n",
      "Dr. Temitope Olayinka takes practical exam in the anatomy lab\n",
      "------\n",
      "Dr. Esther Kudoro paid ₦150,000 school fess\n",
      "Dr. Esther Kudoro solves mathematical problems and builds prototype\n",
      "Dr. Esther Kudoro takes exam with calculations and technical drawings\n",
      "------\n",
      "Dr Chinaza Obi paid ₦150,000 school fess\n",
      "Dr Chinaza Obi solves mathematical problems and builds prototype\n",
      "Dr Chinaza Obi takes exam with calculations and technical drawings\n",
      "------\n",
      "Dr. Daniel Oyegbade paid ₦150,000 school fess\n",
      "Dr. Daniel Oyegbade codes programs and debugs software\n",
      "Dr. Daniel Oyegbade takes practical programming exam on computer\n",
      "------\n"
     ]
    }
   ],
   "source": [
    "#Same interface, different implementations\n",
    "for student in students:\n",
    "    print(student.pay_school_fees(150000)) #same fee for all students\n",
    "    print(student.study_method())\n",
    "    print(student.take_exam())\n",
    "    print(\"------\")"
   ]
  },
  {
   "cell_type": "code",
   "execution_count": 32,
   "id": "af27f3cb",
   "metadata": {},
   "outputs": [],
   "source": [
    "# more example on abstraction\n",
    "# Simple abstraction for phone interface\n",
    "\n",
    "class SimplePhone:\n",
    "    def __init__(self, brand):\n",
    "        self.brand = brand\n",
    "        self._complex_internal_system = 'Very complicated stuff'\n",
    "\n",
    "    #Simple interface: user doesn't need to know internal complexities\n",
    "    def make_call(self, number):\n",
    "        self._establish_network_connection()\n",
    "        self._encode_voice_signal()\n",
    "        self._transmit_to_tower()\n",
    "        return f'Calling {number} from {self.brand} phone...'\n",
    "    \n",
    "    def send_sms(self, message, number):\n",
    "        # self._connect_to_sms_center()\n",
    "        # self._format_message()\n",
    "        # self.send_through_network()\n",
    "        return f'SMS sent to {number}: \"{message}\"'\n",
    "    \n",
    "    #Complex internal methods: hidden from the user\n",
    "    def _establish_network_connection(self):\n",
    "        #Complex networking code here\n",
    "        pass\n",
    "\n",
    "    def _encode_voice_signal(self):\n",
    "        #Complex audio processing here\n",
    "        pass\n",
    "    \n",
    "    def _transmit_to_tower(self):\n",
    "        #Complex audio processing here\n",
    "        pass"
   ]
  },
  {
   "cell_type": "code",
   "execution_count": 33,
   "id": "f0f91f2f",
   "metadata": {},
   "outputs": [
    {
     "name": "stdout",
     "output_type": "stream",
     "text": [
      "Calling 08012345667 from Tecno phone...\n",
      "SMS sent to 080234567789: \"How far?\"\n"
     ]
    }
   ],
   "source": [
    "my_phone = SimplePhone('Tecno')\n",
    "print(my_phone.make_call('08012345667'))\n",
    "print(my_phone.send_sms('How far?', '080234567789'))"
   ]
  },
  {
   "cell_type": "markdown",
   "id": "855110b8",
   "metadata": {},
   "source": [
    "### Inheritance"
   ]
  },
  {
   "cell_type": "code",
   "execution_count": 37,
   "id": "a8b58002",
   "metadata": {},
   "outputs": [],
   "source": [
    "# Parent class: Base Nigerian Person\n",
    "class NigerianPerson:\n",
    "    def __init__(self, first_name, last_name, state_of_origin):\n",
    "        self.first_name = first_name\n",
    "        self.last_name = last_name\n",
    "        self.state_of_origin = state_of_origin\n",
    "        self.can_speak_english = True\n",
    "    \n",
    "    def introduce(self):\n",
    "        return f'My name is {self.first_name} {self.last_name} from {self.state_of_origin}'\n",
    "    \n",
    "    def greet(self):\n",
    "        return \"Good morning\"\n",
    "    \n",
    "    def speak_local_language(self):\n",
    "        return 'I speak my local language'\n",
    "    \n",
    "#Child class 1: NigerianStudent inherits from NigerianPerson\n",
    "class NigerianStudent(NigerianPerson):\n",
    "    def __init__(self, first_name, last_name, state_of_origin, course, level):\n",
    "        #inherit parent's initialization\n",
    "        super().__init__(first_name, last_name, state_of_origin)\n",
    "        #Add student-specific attributes\n",
    "        self.course = course\n",
    "        self.level = level\n",
    "        self.cgpa = 0.0\n",
    "\n",
    "    #Override parent method with student-specific version\n",
    "    def introduce(self):\n",
    "        parent_intro = super().introduce() #Get parent's introduction\n",
    "        return f\"{parent_intro}. I'm a {self.level} level {self.course} student\"\n",
    "    \n",
    "    #Add student-specific methods\n",
    "    def study(self):\n",
    "        return f\"{self.first_name} is studying {self.course}\"\n",
    "    \n",
    "    def take_exam(self):\n",
    "        return f'{self.first_name} is writing {self.course} exam'\n",
    "    \n",
    "#Child class 2: Nigerian worker inherits from NigerianPerson\n",
    "class NigerianWorker(NigerianPerson):\n",
    "    def __init__(self, first_name, last_name, state_of_origin, job_title, company):\n",
    "        super().__init__(first_name, last_name, state_of_origin)\n",
    "        self.job_title = job_title\n",
    "        self.company = company\n",
    "        self.salary = 0\n",
    "\n",
    "    def introduce(self):\n",
    "        parent_intro = super().introduce()\n",
    "        return f'{parent_intro}. I work as a {self.job_title} at {self.company}'\n",
    "    \n",
    "    def work(self):\n",
    "        return f'{self.first_name} is working as a {self.job_title}'\n",
    "    \n",
    "    def receive_salary(self, amount):\n",
    "        self.salary += amount\n",
    "        return f'{self.first_name} received ₦{amount:,} salary'\n",
    "    \n",
    "#Child class 3: NigerianTeacher inherits from NigerianWorker\n",
    "class NigerianTeacher(NigerianWorker):\n",
    "    def __init__(self, first_name, last_name, state_of_origin, subject, school):\n",
    "        #Teacher is a type of worker\n",
    "        super().__init__(first_name, last_name, state_of_origin, \"Teacher\", school)\n",
    "        self.subject = subject\n",
    "        self.students = []\n",
    "\n",
    "    def introduce(self):\n",
    "        return f'My name is {self.first_name} {self.last_name} from {self.state_of_origin}. I teach {self.subject} at {self.company}'\n",
    "    \n",
    "    def teach(self):\n",
    "        return f\"Teacher {self.first_name} is teaching {self.subject}\"\n",
    "    \n",
    "    def grade_students(self):\n",
    "        return f'Teacher {self.first_name} is grading {self.subject} assignments'"
   ]
  },
  {
   "cell_type": "code",
   "execution_count": 38,
   "id": "431c797c",
   "metadata": {},
   "outputs": [],
   "source": [
    "#Using inheritance\n",
    "#Creating different types of people\n",
    "student = NigerianStudent(\"Esther\", \"Kudoro\", \"Ogun State\", \"Engineering\", 500)\n",
    "worker = NigerianWorker(\"Chinedu\", 'Jimoh', 'Anambra State', 'Software Developer', 'Sail Innovation Lab')\n",
    "teacher = NigerianTeacher(\"Chris\", 'Ekwugum', 'Lagos State', 'Data Science', 'PublicaAI')"
   ]
  },
  {
   "cell_type": "code",
   "execution_count": 42,
   "id": "8c65b475",
   "metadata": {},
   "outputs": [
    {
     "name": "stdout",
     "output_type": "stream",
     "text": [
      "=== Basic Inherited Methods ===\n",
      "Good morning\n",
      "I speak my local language\n",
      "Good morning\n",
      "\n",
      "=== Customized Introductions ===\n",
      "My name is Esther Kudoro from Ogun State. I'm a 500 level Engineering student\n",
      "My name is Chinedu Jimoh from Anambra State. I work as a Software Developer at Sail Innovation Lab\n",
      "My name is Chris Ekwugum from Lagos State. I teach Data Science at PublicaAI\n",
      "\n",
      "=== Specific Abilities ===\n",
      "Esther is studying Engineering\n",
      "Chinedu is working as a Software Developer\n",
      "Teacher Chris is teaching Data Science\n"
     ]
    }
   ],
   "source": [
    "#All inherit basic Nigerian person abilities\n",
    "print(\"=== Basic Inherited Methods ===\")\n",
    "print(student.greet()) #inherited greet from the NigerianPerson\n",
    "print(worker.speak_local_language()) #inherited from the NigerianPerson\n",
    "print(teacher.greet())\n",
    "\n",
    "print(\"\\n=== Customized Introductions ===\")\n",
    "print(student.introduce())\n",
    "print(worker.introduce())\n",
    "print(teacher.introduce())\n",
    "\n",
    "print(\"\\n=== Specific Abilities ===\")\n",
    "print(student.study())\n",
    "print(worker.work())\n",
    "print(teacher.teach())"
   ]
  },
  {
   "cell_type": "markdown",
   "id": "b9e9fb68",
   "metadata": {},
   "source": [
    "#### Types of Inheritance"
   ]
  },
  {
   "cell_type": "code",
   "execution_count": 43,
   "id": "39039fb3",
   "metadata": {},
   "outputs": [],
   "source": [
    "#1. Single Inheritance: One parent\n",
    "class Parent:\n",
    "    pass\n",
    "\n",
    "class Child(Parent): # child inherits from parent\n",
    "    pass"
   ]
  },
  {
   "cell_type": "code",
   "execution_count": 44,
   "id": "2a131961",
   "metadata": {},
   "outputs": [],
   "source": [
    "#2. Multiple Inheritance: Multiple parents\n",
    "class Father:\n",
    "    def father_trait(self):\n",
    "        return \"Strong\"\n",
    "    \n",
    "class Mother:\n",
    "    def mother_trait(self):\n",
    "        return 'Caring'\n",
    "    \n",
    "class Child(Father, Mother): # Inherits from both parents\n",
    "    pass"
   ]
  },
  {
   "cell_type": "code",
   "execution_count": 46,
   "id": "7e82e26b",
   "metadata": {},
   "outputs": [
    {
     "name": "stdout",
     "output_type": "stream",
     "text": [
      "Strong\n",
      "Caring\n"
     ]
    }
   ],
   "source": [
    "child = Child()\n",
    "print(child.father_trait())\n",
    "print(child.mother_trait())"
   ]
  },
  {
   "cell_type": "markdown",
   "id": "76021319",
   "metadata": {},
   "source": [
    "#### Using Abstraction, Encapsulation, and Inheritace together"
   ]
  },
  {
   "cell_type": "code",
   "execution_count": null,
   "id": "9bbe277e",
   "metadata": {},
   "outputs": [],
   "source": [
    "# Nigerian School Management System\n",
    "\n",
    "#Abstraction: Define what all school members should do\n",
    "from abc import ABC, abstractmethod\n",
    "\n",
    "class SchoolMember(ABC):\n",
    "    def __init__(self, name, id_number):\n",
    "        self._name = name # Encapsulation: protected attribute\n",
    "        self._id_number = id_number #Encapsulation: protected attribute\n",
    "\n",
    "    @abstractmethod\n",
    "    def daily_activity(self): #abstraction: must be implemented\n",
    "        pass\n",
    "\n",
    "    def get_info(self): #Common method for all\n",
    "        return f\"Name: {self.name}, ID: {self._id_number}\"\n",
    "    \n",
    "#Inheritance: Student inherits from SchoolMember\n",
    "class Student(SchoolMember):\n",
    "    def __init__(self, name, id_number, class_level):\n",
    "        super().__init__(name, id_number)\n",
    "        self._grades = []\n",
    "\n",
    "    def daily_activity(self):\n",
    "        return f'{self._name} attends classes and studies'"
   ]
  }
 ],
 "metadata": {
  "kernelspec": {
   "display_name": "Python 3",
   "language": "python",
   "name": "python3"
  },
  "language_info": {
   "codemirror_mode": {
    "name": "ipython",
    "version": 3
   },
   "file_extension": ".py",
   "mimetype": "text/x-python",
   "name": "python",
   "nbconvert_exporter": "python",
   "pygments_lexer": "ipython3",
   "version": "3.13.6"
  }
 },
 "nbformat": 4,
 "nbformat_minor": 5
}
